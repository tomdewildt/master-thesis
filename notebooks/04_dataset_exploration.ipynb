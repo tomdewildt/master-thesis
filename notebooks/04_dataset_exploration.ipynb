{
 "cells": [
  {
   "cell_type": "markdown",
   "id": "6fde27a8-51ba-4384-a32c-1c3d2c88a7a3",
   "metadata": {},
   "source": [
    "# 4. Dataset Exploration"
   ]
  },
  {
   "cell_type": "code",
   "execution_count": 1,
   "id": "ac7b893a-e9a0-4ae2-9279-3d43a8f2900a",
   "metadata": {},
   "outputs": [
    {
     "name": "stderr",
     "output_type": "stream",
     "text": [
      "2023-09-30 00:45:08.076969: I tensorflow/core/platform/cpu_feature_guard.cc:182] This TensorFlow binary is optimized to use available CPU instructions in performance-critical operations.\n",
      "To enable the following instructions: AVX2 FMA, in other operations, rebuild TensorFlow with the appropriate compiler flags.\n",
      "2023-09-30 00:45:08.793847: W tensorflow/compiler/tf2tensorrt/utils/py_utils.cc:38] TF-TRT Warning: Could not find TensorRT\n"
     ]
    }
   ],
   "source": [
    "from master_thesis.factories import DatasetFactory"
   ]
  },
  {
   "cell_type": "markdown",
   "id": "a985cd51-80ab-45f2-a198-fb286cc890e6",
   "metadata": {},
   "source": [
    "## 4.1 Datasets"
   ]
  },
  {
   "cell_type": "code",
   "execution_count": 2,
   "id": "648523d9-9817-43c8-9d2c-991ff01743c0",
   "metadata": {},
   "outputs": [
    {
     "data": {
      "text/plain": [
       "['coqa', 'hotpotqa', 'squad-v1', 'squad-v2', 'triviaqa']"
      ]
     },
     "execution_count": 2,
     "metadata": {},
     "output_type": "execute_result"
    }
   ],
   "source": [
    "factory = DatasetFactory()\n",
    "factory.list_datasets()"
   ]
  },
  {
   "cell_type": "markdown",
   "id": "f75ce545-a851-4af7-b3f0-6016c73c4753",
   "metadata": {},
   "source": [
    "## 4.2 Evaluate Datasets"
   ]
  },
  {
   "cell_type": "markdown",
   "id": "22730b1b-2672-47ff-b7bc-17c4bd057df8",
   "metadata": {},
   "source": [
    "### 4.2.1 COQA Dataset"
   ]
  },
  {
   "cell_type": "code",
   "execution_count": 3,
   "id": "3c01903d-a517-4d79-b4ff-2c29fe00c983",
   "metadata": {},
   "outputs": [],
   "source": [
    "dataset = factory.get_dataset(\"coqa\")"
   ]
  },
  {
   "cell_type": "code",
   "execution_count": 4,
   "id": "9e8365c3-fe45-4339-813b-561c3df127e3",
   "metadata": {},
   "outputs": [
    {
     "data": {
      "application/vnd.jupyter.widget-view+json": {
       "model_id": "28c8ecfb4e00423e91aa83c7e08f045c",
       "version_major": 2,
       "version_minor": 0
      },
      "text/plain": [
       "Map:   0%|          | 0/7199 [00:00<?, ? examples/s]"
      ]
     },
     "metadata": {},
     "output_type": "display_data"
    },
    {
     "data": {
      "text/plain": [
       "Dataset({\n",
       "    features: ['references', 'question', 'answer'],\n",
       "    num_rows: 108647\n",
       "})"
      ]
     },
     "execution_count": 4,
     "metadata": {},
     "output_type": "execute_result"
    }
   ],
   "source": [
    "dataset.train"
   ]
  },
  {
   "cell_type": "code",
   "execution_count": 5,
   "id": "0fdc1a28-e93f-4ec9-bd9b-0aa06a313de1",
   "metadata": {},
   "outputs": [
    {
     "data": {
      "application/vnd.jupyter.widget-view+json": {
       "model_id": "e82cdde336654e5f94e1799af19fc8da",
       "version_major": 2,
       "version_minor": 0
      },
      "text/plain": [
       "Map:   0%|          | 0/500 [00:00<?, ? examples/s]"
      ]
     },
     "metadata": {},
     "output_type": "display_data"
    },
    {
     "data": {
      "text/plain": [
       "Dataset({\n",
       "    features: ['references', 'question', 'answer'],\n",
       "    num_rows: 7983\n",
       "})"
      ]
     },
     "execution_count": 5,
     "metadata": {},
     "output_type": "execute_result"
    }
   ],
   "source": [
    "dataset.test"
   ]
  },
  {
   "cell_type": "markdown",
   "id": "79c94eaf-c48a-4358-85fe-4a63e4b0be1f",
   "metadata": {},
   "source": [
    "### 4.2.2 HotpotQA Dataset"
   ]
  },
  {
   "cell_type": "code",
   "execution_count": 6,
   "id": "433f6554-51cd-4b7c-9b16-9fce28bbfc1c",
   "metadata": {},
   "outputs": [
    {
     "data": {
      "application/vnd.jupyter.widget-view+json": {
       "model_id": "d6c392a1fa2c4f7d80abb5dd5c22f7cc",
       "version_major": 2,
       "version_minor": 0
      },
      "text/plain": [
       "Downloading builder script:   0%|          | 0.00/6.42k [00:00<?, ?B/s]"
      ]
     },
     "metadata": {},
     "output_type": "display_data"
    },
    {
     "data": {
      "application/vnd.jupyter.widget-view+json": {
       "model_id": "a6d223b2b0554899b2b2d910a873558f",
       "version_major": 2,
       "version_minor": 0
      },
      "text/plain": [
       "Downloading metadata:   0%|          | 0.00/5.93k [00:00<?, ?B/s]"
      ]
     },
     "metadata": {},
     "output_type": "display_data"
    },
    {
     "data": {
      "application/vnd.jupyter.widget-view+json": {
       "model_id": "019fadf2295648448fbb0c2a1021f80c",
       "version_major": 2,
       "version_minor": 0
      },
      "text/plain": [
       "Downloading readme:   0%|          | 0.00/9.19k [00:00<?, ?B/s]"
      ]
     },
     "metadata": {},
     "output_type": "display_data"
    },
    {
     "data": {
      "application/vnd.jupyter.widget-view+json": {
       "model_id": "232f0345a08342a99bdcaa9e5c86aa01",
       "version_major": 2,
       "version_minor": 0
      },
      "text/plain": [
       "Downloading data files:   0%|          | 0/3 [00:00<?, ?it/s]"
      ]
     },
     "metadata": {},
     "output_type": "display_data"
    },
    {
     "data": {
      "application/vnd.jupyter.widget-view+json": {
       "model_id": "70406aa2f28f448aade8fa329402040d",
       "version_major": 2,
       "version_minor": 0
      },
      "text/plain": [
       "Downloading data:   0%|          | 0.00/566M [00:00<?, ?B/s]"
      ]
     },
     "metadata": {},
     "output_type": "display_data"
    },
    {
     "data": {
      "application/vnd.jupyter.widget-view+json": {
       "model_id": "4ec536049b5f4b34bbb82313308d1a24",
       "version_major": 2,
       "version_minor": 0
      },
      "text/plain": [
       "Downloading data:   0%|          | 0.00/47.5M [00:00<?, ?B/s]"
      ]
     },
     "metadata": {},
     "output_type": "display_data"
    },
    {
     "data": {
      "application/vnd.jupyter.widget-view+json": {
       "model_id": "bc824ac827df490fb22740d238b7b98d",
       "version_major": 2,
       "version_minor": 0
      },
      "text/plain": [
       "Downloading data:   0%|          | 0.00/46.2M [00:00<?, ?B/s]"
      ]
     },
     "metadata": {},
     "output_type": "display_data"
    },
    {
     "data": {
      "application/vnd.jupyter.widget-view+json": {
       "model_id": "527048a91ad447008cc5e2dadf413d35",
       "version_major": 2,
       "version_minor": 0
      },
      "text/plain": [
       "Generating train split:   0%|          | 0/90447 [00:00<?, ? examples/s]"
      ]
     },
     "metadata": {},
     "output_type": "display_data"
    },
    {
     "data": {
      "application/vnd.jupyter.widget-view+json": {
       "model_id": "0bc161b477404d0f80e7d42a3d1aaa45",
       "version_major": 2,
       "version_minor": 0
      },
      "text/plain": [
       "Generating validation split:   0%|          | 0/7405 [00:00<?, ? examples/s]"
      ]
     },
     "metadata": {},
     "output_type": "display_data"
    },
    {
     "data": {
      "application/vnd.jupyter.widget-view+json": {
       "model_id": "4b15043d01484ee8be0b0cced66f29ac",
       "version_major": 2,
       "version_minor": 0
      },
      "text/plain": [
       "Generating test split:   0%|          | 0/7405 [00:00<?, ? examples/s]"
      ]
     },
     "metadata": {},
     "output_type": "display_data"
    }
   ],
   "source": [
    "dataset = factory.get_dataset(\"hotpotqa\")"
   ]
  },
  {
   "cell_type": "code",
   "execution_count": 7,
   "id": "0a3b6213-9660-47a4-a295-82141c9eb3df",
   "metadata": {},
   "outputs": [
    {
     "data": {
      "application/vnd.jupyter.widget-view+json": {
       "model_id": "39329968b6684e42b8ea778ca1fac41c",
       "version_major": 2,
       "version_minor": 0
      },
      "text/plain": [
       "Map:   0%|          | 0/90447 [00:00<?, ? examples/s]"
      ]
     },
     "metadata": {},
     "output_type": "display_data"
    },
    {
     "data": {
      "text/plain": [
       "Dataset({\n",
       "    features: ['question', 'answer', 'references'],\n",
       "    num_rows: 90447\n",
       "})"
      ]
     },
     "execution_count": 7,
     "metadata": {},
     "output_type": "execute_result"
    }
   ],
   "source": [
    "dataset.train"
   ]
  },
  {
   "cell_type": "code",
   "execution_count": 8,
   "id": "5aca572a-ca27-4f6c-9250-3ff3c1e6b062",
   "metadata": {},
   "outputs": [
    {
     "data": {
      "application/vnd.jupyter.widget-view+json": {
       "model_id": "8e279c6d62ff4443a54b323d9ecdfff1",
       "version_major": 2,
       "version_minor": 0
      },
      "text/plain": [
       "Map:   0%|          | 0/7405 [00:00<?, ? examples/s]"
      ]
     },
     "metadata": {},
     "output_type": "display_data"
    },
    {
     "data": {
      "application/vnd.jupyter.widget-view+json": {
       "model_id": "442819f6e95c43e9aaef4a9f33a003f7",
       "version_major": 2,
       "version_minor": 0
      },
      "text/plain": [
       "Map:   0%|          | 0/7405 [00:00<?, ? examples/s]"
      ]
     },
     "metadata": {},
     "output_type": "display_data"
    },
    {
     "data": {
      "text/plain": [
       "Dataset({\n",
       "    features: ['question', 'answer', 'references'],\n",
       "    num_rows: 14810\n",
       "})"
      ]
     },
     "execution_count": 8,
     "metadata": {},
     "output_type": "execute_result"
    }
   ],
   "source": [
    "dataset.test"
   ]
  },
  {
   "cell_type": "markdown",
   "id": "41c8c57e-60c9-499d-92aa-842ea08281ea",
   "metadata": {},
   "source": [
    "### 4.2.3 SQUAD v1 Dataset"
   ]
  },
  {
   "cell_type": "code",
   "execution_count": 9,
   "id": "924d3370-6bc8-407e-b189-6b500fff2af0",
   "metadata": {},
   "outputs": [],
   "source": [
    "dataset = factory.get_dataset(\"squad-v1\")"
   ]
  },
  {
   "cell_type": "code",
   "execution_count": 10,
   "id": "3a89eabe-be55-40f8-bda0-818002a15fea",
   "metadata": {},
   "outputs": [
    {
     "data": {
      "application/vnd.jupyter.widget-view+json": {
       "model_id": "0566e9d5a66345fb936902c649ac74b5",
       "version_major": 2,
       "version_minor": 0
      },
      "text/plain": [
       "Map:   0%|          | 0/87599 [00:00<?, ? examples/s]"
      ]
     },
     "metadata": {},
     "output_type": "display_data"
    },
    {
     "data": {
      "text/plain": [
       "Dataset({\n",
       "    features: ['question', 'references', 'answer'],\n",
       "    num_rows: 87599\n",
       "})"
      ]
     },
     "execution_count": 10,
     "metadata": {},
     "output_type": "execute_result"
    }
   ],
   "source": [
    "dataset.train"
   ]
  },
  {
   "cell_type": "code",
   "execution_count": 11,
   "id": "1644bc76-475b-4d14-b2b5-3bed35f4bcfb",
   "metadata": {},
   "outputs": [
    {
     "data": {
      "application/vnd.jupyter.widget-view+json": {
       "model_id": "caed2a0ff43c42629f7a00597da27787",
       "version_major": 2,
       "version_minor": 0
      },
      "text/plain": [
       "Map:   0%|          | 0/10570 [00:00<?, ? examples/s]"
      ]
     },
     "metadata": {},
     "output_type": "display_data"
    },
    {
     "data": {
      "text/plain": [
       "Dataset({\n",
       "    features: ['question', 'references', 'answer'],\n",
       "    num_rows: 34726\n",
       "})"
      ]
     },
     "execution_count": 11,
     "metadata": {},
     "output_type": "execute_result"
    }
   ],
   "source": [
    "dataset.test"
   ]
  },
  {
   "cell_type": "markdown",
   "id": "2f99e580-04c7-428f-9b6d-7aae4d0de673",
   "metadata": {},
   "source": [
    "### 4.2.4 SQUAD v2 Dataset"
   ]
  },
  {
   "cell_type": "code",
   "execution_count": 12,
   "id": "9f0dc4c5-4bf3-4c59-b326-c34c17aaa41e",
   "metadata": {},
   "outputs": [
    {
     "data": {
      "application/vnd.jupyter.widget-view+json": {
       "model_id": "8e3a420013f14f9eb4d92476d70a3591",
       "version_major": 2,
       "version_minor": 0
      },
      "text/plain": [
       "Downloading builder script:   0%|          | 0.00/5.28k [00:00<?, ?B/s]"
      ]
     },
     "metadata": {},
     "output_type": "display_data"
    },
    {
     "data": {
      "application/vnd.jupyter.widget-view+json": {
       "model_id": "69f5a92691d6412fba33af2963263ba6",
       "version_major": 2,
       "version_minor": 0
      },
      "text/plain": [
       "Downloading metadata:   0%|          | 0.00/2.40k [00:00<?, ?B/s]"
      ]
     },
     "metadata": {},
     "output_type": "display_data"
    },
    {
     "data": {
      "application/vnd.jupyter.widget-view+json": {
       "model_id": "85e700ad30e248fbb99a89fc618ee885",
       "version_major": 2,
       "version_minor": 0
      },
      "text/plain": [
       "Downloading readme:   0%|          | 0.00/8.02k [00:00<?, ?B/s]"
      ]
     },
     "metadata": {},
     "output_type": "display_data"
    },
    {
     "data": {
      "application/vnd.jupyter.widget-view+json": {
       "model_id": "73d60c13ea9e434e92b038fd99ef13f9",
       "version_major": 2,
       "version_minor": 0
      },
      "text/plain": [
       "Downloading data files:   0%|          | 0/2 [00:00<?, ?it/s]"
      ]
     },
     "metadata": {},
     "output_type": "display_data"
    },
    {
     "data": {
      "application/vnd.jupyter.widget-view+json": {
       "model_id": "70d19ab2d94b445088c5136e190aab77",
       "version_major": 2,
       "version_minor": 0
      },
      "text/plain": [
       "Downloading data:   0%|          | 0.00/9.55M [00:00<?, ?B/s]"
      ]
     },
     "metadata": {},
     "output_type": "display_data"
    },
    {
     "data": {
      "application/vnd.jupyter.widget-view+json": {
       "model_id": "fb307d099ced495cb6375e0dc0631deb",
       "version_major": 2,
       "version_minor": 0
      },
      "text/plain": [
       "Downloading data:   0%|          | 0.00/801k [00:00<?, ?B/s]"
      ]
     },
     "metadata": {},
     "output_type": "display_data"
    },
    {
     "data": {
      "application/vnd.jupyter.widget-view+json": {
       "model_id": "453cd5431c824859a03e5c318b1cf9ed",
       "version_major": 2,
       "version_minor": 0
      },
      "text/plain": [
       "Extracting data files:   0%|          | 0/2 [00:00<?, ?it/s]"
      ]
     },
     "metadata": {},
     "output_type": "display_data"
    },
    {
     "data": {
      "application/vnd.jupyter.widget-view+json": {
       "model_id": "b72db457e77a419dbb4bbf24cd57507a",
       "version_major": 2,
       "version_minor": 0
      },
      "text/plain": [
       "Generating train split:   0%|          | 0/130319 [00:00<?, ? examples/s]"
      ]
     },
     "metadata": {},
     "output_type": "display_data"
    },
    {
     "data": {
      "application/vnd.jupyter.widget-view+json": {
       "model_id": "7838c5fdcbf94e5bb1f95963501281b8",
       "version_major": 2,
       "version_minor": 0
      },
      "text/plain": [
       "Generating validation split:   0%|          | 0/11873 [00:00<?, ? examples/s]"
      ]
     },
     "metadata": {},
     "output_type": "display_data"
    }
   ],
   "source": [
    "dataset = factory.get_dataset(\"squad-v2\")"
   ]
  },
  {
   "cell_type": "code",
   "execution_count": 13,
   "id": "fba20248-0e33-4a42-9717-925acb9467cb",
   "metadata": {},
   "outputs": [
    {
     "data": {
      "application/vnd.jupyter.widget-view+json": {
       "model_id": "12d8444ce25b43f582907a0c9b006516",
       "version_major": 2,
       "version_minor": 0
      },
      "text/plain": [
       "Map:   0%|          | 0/130319 [00:00<?, ? examples/s]"
      ]
     },
     "metadata": {},
     "output_type": "display_data"
    },
    {
     "data": {
      "text/plain": [
       "Dataset({\n",
       "    features: ['question', 'references', 'answer'],\n",
       "    num_rows: 86821\n",
       "})"
      ]
     },
     "execution_count": 13,
     "metadata": {},
     "output_type": "execute_result"
    }
   ],
   "source": [
    "dataset.train"
   ]
  },
  {
   "cell_type": "code",
   "execution_count": 14,
   "id": "ec79db39-da12-492f-a56e-2f16b35d3b2d",
   "metadata": {},
   "outputs": [
    {
     "data": {
      "application/vnd.jupyter.widget-view+json": {
       "model_id": "83ded70014154180944de16bc0503f4d",
       "version_major": 2,
       "version_minor": 0
      },
      "text/plain": [
       "Map:   0%|          | 0/11873 [00:00<?, ? examples/s]"
      ]
     },
     "metadata": {},
     "output_type": "display_data"
    },
    {
     "data": {
      "text/plain": [
       "Dataset({\n",
       "    features: ['question', 'references', 'answer'],\n",
       "    num_rows: 20302\n",
       "})"
      ]
     },
     "execution_count": 14,
     "metadata": {},
     "output_type": "execute_result"
    }
   ],
   "source": [
    "dataset.test"
   ]
  },
  {
   "cell_type": "markdown",
   "id": "d3178ef7-3971-49d8-b3f7-f639a01a8ef4",
   "metadata": {},
   "source": [
    "### 4.2.5 TriviaQA Dataset"
   ]
  },
  {
   "cell_type": "code",
   "execution_count": null,
   "id": "bf170fea-f100-4a7c-8375-543ea9563b3c",
   "metadata": {},
   "outputs": [],
   "source": [
    "dataset = factory.get_dataset(\"triviaqa\")"
   ]
  },
  {
   "cell_type": "code",
   "execution_count": null,
   "id": "0a7583bd-cf72-40ba-b9a1-3e50407e1135",
   "metadata": {},
   "outputs": [],
   "source": [
    "dataset.train"
   ]
  },
  {
   "cell_type": "code",
   "execution_count": null,
   "id": "615d04b2-126c-49f3-b350-b77a09f79065",
   "metadata": {},
   "outputs": [],
   "source": [
    "dataset.test"
   ]
  }
 ],
 "metadata": {
  "kernelspec": {
   "display_name": "Python 3 (ipykernel)",
   "language": "python",
   "name": "python3"
  },
  "language_info": {
   "codemirror_mode": {
    "name": "ipython",
    "version": 3
   },
   "file_extension": ".py",
   "mimetype": "text/x-python",
   "name": "python",
   "nbconvert_exporter": "python",
   "pygments_lexer": "ipython3",
   "version": "3.11.5"
  }
 },
 "nbformat": 4,
 "nbformat_minor": 5
}
