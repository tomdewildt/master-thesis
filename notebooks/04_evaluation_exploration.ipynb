{
 "cells": [
  {
   "cell_type": "markdown",
   "id": "44a9d5ff-25c2-4972-bd83-75a2d10260de",
   "metadata": {},
   "source": [
    "# 4. Evaluation Exploration"
   ]
  },
  {
   "cell_type": "code",
   "execution_count": null,
   "id": "53f1195a-b0c4-46bd-af4a-0fe79c8dfdea",
   "metadata": {},
   "outputs": [],
   "source": []
  }
 ],
 "metadata": {
  "kernelspec": {
   "display_name": "Python 3 (ipykernel)",
   "language": "python",
   "name": "python3"
  },
  "language_info": {
   "codemirror_mode": {
    "name": "ipython",
    "version": 3
   },
   "file_extension": ".py",
   "mimetype": "text/x-python",
   "name": "python",
   "nbconvert_exporter": "python",
   "pygments_lexer": "ipython3",
   "version": "3.8.10"
  }
 },
 "nbformat": 4,
 "nbformat_minor": 5
}
