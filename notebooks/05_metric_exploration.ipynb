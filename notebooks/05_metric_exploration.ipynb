{
 "cells": [
  {
   "cell_type": "markdown",
   "id": "63417ebc-f153-4542-803b-8e2c49e2c0c9",
   "metadata": {},
   "source": [
    "# 5. Metric Exploration"
   ]
  },
  {
   "cell_type": "code",
   "execution_count": 1,
   "id": "79406b3d-852a-4d09-b7b3-1e8a6726e234",
   "metadata": {},
   "outputs": [
    {
     "name": "stderr",
     "output_type": "stream",
     "text": [
      "2023-09-27 01:07:28.520858: I tensorflow/core/platform/cpu_feature_guard.cc:182] This TensorFlow binary is optimized to use available CPU instructions in performance-critical operations.\n",
      "To enable the following instructions: AVX2 FMA, in other operations, rebuild TensorFlow with the appropriate compiler flags.\n",
      "2023-09-27 01:07:29.307879: W tensorflow/compiler/tf2tensorrt/utils/py_utils.cc:38] TF-TRT Warning: Could not find TensorRT\n"
     ]
    }
   ],
   "source": [
    "from master_thesis.factories import MetricFactory"
   ]
  },
  {
   "cell_type": "markdown",
   "id": "d2a1a1ea-ecff-4204-9076-ff49b43d25fc",
   "metadata": {},
   "source": [
    "## 5.1 Metrics"
   ]
  },
  {
   "cell_type": "code",
   "execution_count": 2,
   "id": "572de4a0-72ff-461d-b02e-8a968561a2f5",
   "metadata": {},
   "outputs": [
    {
     "data": {
      "text/plain": [
       "['bert-score', 'bleu', 'bleurt', 'llm-eval', 'rouge']"
      ]
     },
     "execution_count": 2,
     "metadata": {},
     "output_type": "execute_result"
    }
   ],
   "source": [
    "factory = MetricFactory()\n",
    "factory.list_metrics()"
   ]
  },
  {
   "cell_type": "markdown",
   "id": "75d8004d-4bba-42a2-a9d8-1ea6a63e1c97",
   "metadata": {},
   "source": [
    "## 5.2 Evaluate Metrics"
   ]
  },
  {
   "cell_type": "markdown",
   "id": "74e8b59a-1494-48d8-87ff-33d7a1d9c621",
   "metadata": {},
   "source": [
    "### 5.2.1 BERTScore Metric"
   ]
  },
  {
   "cell_type": "code",
   "execution_count": 3,
   "id": "185b3a70-2300-4b2a-b7e1-2b607e846085",
   "metadata": {},
   "outputs": [],
   "source": [
    "metric = factory.get_metric(\"bert-score\")"
   ]
  },
  {
   "cell_type": "code",
   "execution_count": 4,
   "id": "f434c45e-fd1e-41af-8364-f786a379de6d",
   "metadata": {},
   "outputs": [
    {
     "name": "stderr",
     "output_type": "stream",
     "text": [
      "Some weights of RobertaModel were not initialized from the model checkpoint at roberta-large and are newly initialized: ['roberta.pooler.dense.weight', 'roberta.pooler.dense.bias']\n",
      "You should probably TRAIN this model on a down-stream task to be able to use it for predictions and inference.\n"
     ]
    },
    {
     "data": {
      "text/plain": [
       "0.9999999403953552"
      ]
     },
     "execution_count": 4,
     "metadata": {},
     "output_type": "execute_result"
    }
   ],
   "source": [
    "metric.test(\"Please introduce yourself.\", \"Hello, I'm John Doe.\", \"Hello, I'm John Doe.\")"
   ]
  },
  {
   "cell_type": "code",
   "execution_count": 5,
   "id": "cef3b27e-6c72-4673-8146-9a105209e352",
   "metadata": {},
   "outputs": [
    {
     "name": "stderr",
     "output_type": "stream",
     "text": [
      "Some weights of RobertaModel were not initialized from the model checkpoint at roberta-large and are newly initialized: ['roberta.pooler.dense.weight', 'roberta.pooler.dense.bias']\n",
      "You should probably TRAIN this model on a down-stream task to be able to use it for predictions and inference.\n"
     ]
    },
    {
     "data": {
      "text/plain": [
       "0.9658254981040955"
      ]
     },
     "execution_count": 5,
     "metadata": {},
     "output_type": "execute_result"
    }
   ],
   "source": [
    "metric.test(\"Please introduce yourself.\", \"Hello, I'm John Doe.\", \"Hello I'm Jane Doe.\")"
   ]
  },
  {
   "cell_type": "markdown",
   "id": "70241d21-2d1f-4fc3-8f93-f27b0f5c1312",
   "metadata": {},
   "source": [
    "### 5.2.2 BLEU Metric"
   ]
  },
  {
   "cell_type": "code",
   "execution_count": 6,
   "id": "665fff43-0cd3-44ff-ae41-9fe602c5e1af",
   "metadata": {},
   "outputs": [],
   "source": [
    "metric = factory.get_metric(\"bleu\")"
   ]
  },
  {
   "cell_type": "code",
   "execution_count": 7,
   "id": "9f90a5d7-6cbf-4d18-ac56-d7e6ed0184a1",
   "metadata": {},
   "outputs": [
    {
     "data": {
      "text/plain": [
       "1.0"
      ]
     },
     "execution_count": 7,
     "metadata": {},
     "output_type": "execute_result"
    }
   ],
   "source": [
    "metric.test(\"Please introduce yourself.\", \"Hello, I'm John Doe.\", \"Hello, I'm John Doe.\")"
   ]
  },
  {
   "cell_type": "code",
   "execution_count": 8,
   "id": "de17a2ce-41e6-45a7-a18d-78e88924dea1",
   "metadata": {},
   "outputs": [
    {
     "data": {
      "text/plain": [
       "0.5"
      ]
     },
     "execution_count": 8,
     "metadata": {},
     "output_type": "execute_result"
    }
   ],
   "source": [
    "metric.test(\"Please introduce yourself.\", \"Hello, I'm John Doe.\", \"Hello I'm Jane Doe.\")"
   ]
  },
  {
   "cell_type": "markdown",
   "id": "23c1b257-2c19-43cc-a850-eadea293976f",
   "metadata": {},
   "source": [
    "### 5.2.3 BLEURT Metric"
   ]
  },
  {
   "cell_type": "code",
   "execution_count": 9,
   "id": "e0cd33e0-afaf-47e0-98d0-0839db013aac",
   "metadata": {},
   "outputs": [
    {
     "name": "stdout",
     "output_type": "stream",
     "text": [
      "INFO:tensorflow:Reading checkpoint ../models/bleurt_20_d12.\n",
      "INFO:tensorflow:Config file found, reading.\n",
      "INFO:tensorflow:Will load checkpoint BLEURT-20-D12\n",
      "INFO:tensorflow:Loads full paths and checks that files exists.\n",
      "INFO:tensorflow:... name:BLEURT-20-D12\n",
      "INFO:tensorflow:... bert_config_file:bert_config.json\n",
      "INFO:tensorflow:... max_seq_length:512\n",
      "INFO:tensorflow:... vocab_file:None\n",
      "INFO:tensorflow:... do_lower_case:None\n",
      "INFO:tensorflow:... sp_model:sent_piece\n",
      "INFO:tensorflow:... dynamic_seq_length:True\n",
      "INFO:tensorflow:Creating BLEURT scorer.\n",
      "INFO:tensorflow:Creating SentencePiece tokenizer.\n",
      "INFO:tensorflow:Creating SentencePiece tokenizer.\n",
      "INFO:tensorflow:Will load model: ../models/bleurt_20_d12/sent_piece.model.\n",
      "INFO:tensorflow:SentencePiece tokenizer created.\n",
      "INFO:tensorflow:Creating Eager Mode predictor.\n",
      "INFO:tensorflow:Loading model.\n"
     ]
    },
    {
     "name": "stderr",
     "output_type": "stream",
     "text": [
      "2023-09-27 01:07:39.808406: I tensorflow/compiler/xla/stream_executor/cuda/cuda_gpu_executor.cc:996] successful NUMA node read from SysFS had negative value (-1), but there must be at least one NUMA node, so returning NUMA node zero. See more at https://github.com/torvalds/linux/blob/v6.0/Documentation/ABI/testing/sysfs-bus-pci#L344-L355\n",
      "2023-09-27 01:07:39.839916: I tensorflow/compiler/xla/stream_executor/cuda/cuda_gpu_executor.cc:996] successful NUMA node read from SysFS had negative value (-1), but there must be at least one NUMA node, so returning NUMA node zero. See more at https://github.com/torvalds/linux/blob/v6.0/Documentation/ABI/testing/sysfs-bus-pci#L344-L355\n",
      "2023-09-27 01:07:39.840136: I tensorflow/compiler/xla/stream_executor/cuda/cuda_gpu_executor.cc:996] successful NUMA node read from SysFS had negative value (-1), but there must be at least one NUMA node, so returning NUMA node zero. See more at https://github.com/torvalds/linux/blob/v6.0/Documentation/ABI/testing/sysfs-bus-pci#L344-L355\n",
      "2023-09-27 01:07:39.841372: I tensorflow/compiler/xla/stream_executor/cuda/cuda_gpu_executor.cc:996] successful NUMA node read from SysFS had negative value (-1), but there must be at least one NUMA node, so returning NUMA node zero. See more at https://github.com/torvalds/linux/blob/v6.0/Documentation/ABI/testing/sysfs-bus-pci#L344-L355\n",
      "2023-09-27 01:07:39.841567: I tensorflow/compiler/xla/stream_executor/cuda/cuda_gpu_executor.cc:996] successful NUMA node read from SysFS had negative value (-1), but there must be at least one NUMA node, so returning NUMA node zero. See more at https://github.com/torvalds/linux/blob/v6.0/Documentation/ABI/testing/sysfs-bus-pci#L344-L355\n",
      "2023-09-27 01:07:39.841687: I tensorflow/compiler/xla/stream_executor/cuda/cuda_gpu_executor.cc:996] successful NUMA node read from SysFS had negative value (-1), but there must be at least one NUMA node, so returning NUMA node zero. See more at https://github.com/torvalds/linux/blob/v6.0/Documentation/ABI/testing/sysfs-bus-pci#L344-L355\n",
      "2023-09-27 01:07:39.842034: I tensorflow/compiler/xla/stream_executor/cuda/cuda_gpu_executor.cc:996] successful NUMA node read from SysFS had negative value (-1), but there must be at least one NUMA node, so returning NUMA node zero. See more at https://github.com/torvalds/linux/blob/v6.0/Documentation/ABI/testing/sysfs-bus-pci#L344-L355\n",
      "2023-09-27 01:07:39.842202: I tensorflow/compiler/xla/stream_executor/cuda/cuda_gpu_executor.cc:996] successful NUMA node read from SysFS had negative value (-1), but there must be at least one NUMA node, so returning NUMA node zero. See more at https://github.com/torvalds/linux/blob/v6.0/Documentation/ABI/testing/sysfs-bus-pci#L344-L355\n",
      "2023-09-27 01:07:39.842311: I tensorflow/compiler/xla/stream_executor/cuda/cuda_gpu_executor.cc:996] successful NUMA node read from SysFS had negative value (-1), but there must be at least one NUMA node, so returning NUMA node zero. See more at https://github.com/torvalds/linux/blob/v6.0/Documentation/ABI/testing/sysfs-bus-pci#L344-L355\n",
      "2023-09-27 01:07:39.842406: I tensorflow/core/common_runtime/gpu/gpu_device.cc:1635] Created device /job:localhost/replica:0/task:0/device:GPU:0 with 1676 MB memory:  -> device: 0, name: NVIDIA GeForce GTX 1650, pci bus id: 0000:01:00.0, compute capability: 7.5\n"
     ]
    },
    {
     "name": "stdout",
     "output_type": "stream",
     "text": [
      "INFO:tensorflow:BLEURT initialized.\n"
     ]
    }
   ],
   "source": [
    "metric = factory.get_metric(\"bleurt\")"
   ]
  },
  {
   "cell_type": "code",
   "execution_count": 10,
   "id": "cb4c89f1-a982-45d8-89c3-0809f1336447",
   "metadata": {},
   "outputs": [
    {
     "data": {
      "text/plain": [
       "0.9742802381515503"
      ]
     },
     "execution_count": 10,
     "metadata": {},
     "output_type": "execute_result"
    }
   ],
   "source": [
    "metric.test(\"Please introduce yourself.\", \"Hello, I'm John Doe.\", \"Hello, I'm John Doe.\")"
   ]
  },
  {
   "cell_type": "code",
   "execution_count": 11,
   "id": "a0ff4815-5eed-4d12-9280-63d1d60fbf0e",
   "metadata": {},
   "outputs": [
    {
     "data": {
      "text/plain": [
       "0.6097735166549683"
      ]
     },
     "execution_count": 11,
     "metadata": {},
     "output_type": "execute_result"
    }
   ],
   "source": [
    "metric.test(\"Please introduce yourself.\", \"Hello, I'm John Doe.\", \"Hello I'm Jane Doe.\")"
   ]
  },
  {
   "cell_type": "markdown",
   "id": "a5d4d195-22ac-4d46-8fee-e08bd6cbd64a",
   "metadata": {},
   "source": [
    "### 5.2.4 LLM-Eval Metric"
   ]
  },
  {
   "cell_type": "code",
   "execution_count": 12,
   "id": "ae16adc7-473b-4ced-ab5a-087585da2156",
   "metadata": {},
   "outputs": [],
   "source": [
    "metric = factory.get_metric(\"llm-eval\")"
   ]
  },
  {
   "cell_type": "code",
   "execution_count": 13,
   "id": "ba9cacf0-e0b0-4a70-b3b1-979cc9c003c5",
   "metadata": {},
   "outputs": [
    {
     "data": {
      "text/plain": [
       "1.0"
      ]
     },
     "execution_count": 13,
     "metadata": {},
     "output_type": "execute_result"
    }
   ],
   "source": [
    "metric.test(\"Please introduce yourself.\", \"Hello, I'm John Doe.\", \"Hello, I'm John Doe.\")"
   ]
  },
  {
   "cell_type": "code",
   "execution_count": 14,
   "id": "de0610c6-ea39-46a0-96f3-48ac25680cf3",
   "metadata": {},
   "outputs": [
    {
     "data": {
      "text/plain": [
       "0.0"
      ]
     },
     "execution_count": 14,
     "metadata": {},
     "output_type": "execute_result"
    }
   ],
   "source": [
    "metric.test(\"Please introduce yourself.\", \"Hello, I'm John Doe.\", \"Hello I'm Jane Doe.\")"
   ]
  },
  {
   "cell_type": "markdown",
   "id": "155eb68b-9156-4b7d-b778-9aea545a7e63",
   "metadata": {},
   "source": [
    "### 5.2.5 Rouge Metric"
   ]
  },
  {
   "cell_type": "code",
   "execution_count": 15,
   "id": "114d1dee-2836-4513-b0d8-95ce989bb602",
   "metadata": {},
   "outputs": [],
   "source": [
    "metric = factory.get_metric(\"rouge\")"
   ]
  },
  {
   "cell_type": "code",
   "execution_count": 16,
   "id": "a9f3d3bc-7429-49ef-8a4c-3be0b3208d81",
   "metadata": {},
   "outputs": [
    {
     "data": {
      "text/plain": [
       "1.0"
      ]
     },
     "execution_count": 16,
     "metadata": {},
     "output_type": "execute_result"
    }
   ],
   "source": [
    "metric.test(\"Please introduce yourself.\", \"Hello, I'm John Doe.\", \"Hello, I'm John Doe.\")"
   ]
  },
  {
   "cell_type": "code",
   "execution_count": 17,
   "id": "dfd950c1-91f1-42f9-b001-40edece2539d",
   "metadata": {},
   "outputs": [
    {
     "data": {
      "text/plain": [
       "0.8000000000000002"
      ]
     },
     "execution_count": 17,
     "metadata": {},
     "output_type": "execute_result"
    }
   ],
   "source": [
    "metric.test(\"Please introduce yourself.\", \"Hello, I'm John Doe.\", \"Hello I'm Jane Doe.\")"
   ]
  }
 ],
 "metadata": {
  "kernelspec": {
   "display_name": "Python 3 (ipykernel)",
   "language": "python",
   "name": "python3"
  },
  "language_info": {
   "codemirror_mode": {
    "name": "ipython",
    "version": 3
   },
   "file_extension": ".py",
   "mimetype": "text/x-python",
   "name": "python",
   "nbconvert_exporter": "python",
   "pygments_lexer": "ipython3",
   "version": "3.11.5"
  }
 },
 "nbformat": 4,
 "nbformat_minor": 5
}
