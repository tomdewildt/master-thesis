{
 "cells": [
  {
   "attachments": {},
   "cell_type": "markdown",
   "id": "e69bd2ff-ed57-4599-bedc-27e7345b58c8",
   "metadata": {},
   "source": [
    "# 1. Model Exploration"
   ]
  },
  {
   "cell_type": "code",
   "execution_count": 2,
   "id": "9f3ddfd9-1c58-438a-9200-4ed7b49874eb",
   "metadata": {},
   "outputs": [],
   "source": [
    "from master_thesis import ModelFactory"
   ]
  },
  {
   "attachments": {},
   "cell_type": "markdown",
   "id": "8d42af7b-eab0-46ca-bc8b-d9646ba45285",
   "metadata": {},
   "source": [
    "## 1.1 Models"
   ]
  },
  {
   "cell_type": "code",
   "execution_count": 3,
   "id": "9abc9642-102a-40b6-ad7a-7a5b2629ddd1",
   "metadata": {},
   "outputs": [],
   "source": [
    "factory = ModelFactory()"
   ]
  },
  {
   "cell_type": "code",
   "execution_count": 4,
   "id": "54436964-fab0-494e-a033-8c48926fb68a",
   "metadata": {},
   "outputs": [
    {
     "data": {
      "text/plain": [
       "['anthropic/claude-v1',\n",
       " 'anthropic/claude-v1-100k',\n",
       " 'anthropic/claude-instant-v1',\n",
       " 'anthropic/claude-instant-v1-100k',\n",
       " 'google/text-bison-001',\n",
       " 'google/chat-bison-001',\n",
       " 'openai/gpt2',\n",
       " 'bigscience/bloom-560m',\n",
       " 'bigscience/bloom-1b1',\n",
       " 'bigscience/bloom-1b7',\n",
       " 'bigscience/bloom-3b',\n",
       " 'bigscience/bloom-7b1',\n",
       " 'bigscience/bloom',\n",
       " 'bigscience/bloomz-560m',\n",
       " 'bigscience/bloomz-1b1',\n",
       " 'bigscience/bloomz-1b7',\n",
       " 'bigscience/bloomz-3b',\n",
       " 'bigscience/bloomz-7b1',\n",
       " 'bigscience/bloomz',\n",
       " 'facebook/xglm-564M',\n",
       " 'facebook/xglm-1.7B',\n",
       " 'facebook/xglm-2.9B',\n",
       " 'facebook/xglm-4.5B',\n",
       " 'facebook/xglm-7.5B',\n",
       " 'meta-llama/Llama-2-7b-hf',\n",
       " 'meta-llama/Llama-2-7b-chat-hf',\n",
       " 'meta-llama/Llama-2-13b-hf',\n",
       " 'meta-llama/Llama-2-13b-chat-hf',\n",
       " 'meta-llama/Llama-2-70b-hf',\n",
       " 'meta-llama/Llama-2-70b-chat-hf',\n",
       " 'google/t5-small',\n",
       " 'google/t5-base',\n",
       " 'google/t5-large',\n",
       " 'google/t5-3b',\n",
       " 'google/t5-11b',\n",
       " 'google/flan-t5-small',\n",
       " 'google/flan-t5-base',\n",
       " 'google/flan-t5-large',\n",
       " 'google/flan-t5-xl',\n",
       " 'google/flan-t5-xxl',\n",
       " 'openai/gpt-4',\n",
       " 'openai/gpt-3.5-turbo',\n",
       " 'openai/text-davinci-003',\n",
       " 'openai/text-curie-001',\n",
       " 'openai/text-babbage-001',\n",
       " 'openai/text-ada-001']"
      ]
     },
     "execution_count": 4,
     "metadata": {},
     "output_type": "execute_result"
    }
   ],
   "source": [
    "factory.list_models()"
   ]
  },
  {
   "attachments": {},
   "cell_type": "markdown",
   "id": "a353cda7-1a96-436b-841f-f469e18b79b7",
   "metadata": {},
   "source": [
    "## 1.2 Evaluate Models"
   ]
  },
  {
   "attachments": {},
   "cell_type": "markdown",
   "id": "6448ea5a-523e-4d50-a633-5f149ed26258",
   "metadata": {},
   "source": [
    "### 1.2.1 Anthropic Models"
   ]
  },
  {
   "cell_type": "code",
   "execution_count": 5,
   "id": "b1f2ef80-9b68-4b80-a30c-bab238520924",
   "metadata": {},
   "outputs": [
    {
     "data": {
      "text/plain": [
       "' The first letter of the alphabet is A.'"
      ]
     },
     "execution_count": 5,
     "metadata": {},
     "output_type": "execute_result"
    }
   ],
   "source": [
    "model = factory.get_model(\"anthropic/claude-instant-v1\")\n",
    "model.generate(\"Question: What is the first letter of the alphabet?\\nAnswer: \")"
   ]
  },
  {
   "attachments": {},
   "cell_type": "markdown",
   "id": "0214dd84-db70-48ed-96ea-ee1adf8fbc13",
   "metadata": {},
   "source": [
    "### 1.2.2 Google Models"
   ]
  },
  {
   "cell_type": "code",
   "execution_count": null,
   "id": "e92943c0-b6e4-4832-b77c-da30b19d04b1",
   "metadata": {},
   "outputs": [],
   "source": []
  },
  {
   "attachments": {},
   "cell_type": "markdown",
   "id": "8a95415f-5207-47db-8e2e-8524d2e78353",
   "metadata": {},
   "source": [
    "### 1.2.3 HuggingFace Models"
   ]
  },
  {
   "cell_type": "code",
   "execution_count": 6,
   "id": "c379bbd7-9854-45b7-82a3-fdedafab0bf0",
   "metadata": {},
   "outputs": [
    {
     "name": "stderr",
     "output_type": "stream",
     "text": [
      "/home/tomdewildt/Projects/master-thesis/venv/lib/python3.8/site-packages/transformers/modeling_utils.py:2193: FutureWarning: The `use_auth_token` argument is deprecated and will be removed in v5 of Transformers.\n",
      "  warnings.warn(\n"
     ]
    },
    {
     "data": {
      "application/vnd.jupyter.widget-view+json": {
       "model_id": "0725e38313fc4682ac2bd73b1b5124e8",
       "version_major": 2,
       "version_minor": 0
      },
      "text/plain": [
       "Downloading shards:   0%|          | 0/2 [00:00<?, ?it/s]"
      ]
     },
     "metadata": {},
     "output_type": "display_data"
    },
    {
     "data": {
      "application/vnd.jupyter.widget-view+json": {
       "model_id": "fbcf2ed8e74143b5851dac05085e1679",
       "version_major": 2,
       "version_minor": 0
      },
      "text/plain": [
       "Downloading (…)of-00002.safetensors:   0%|          | 0.00/9.98G [00:00<?, ?B/s]"
      ]
     },
     "metadata": {},
     "output_type": "display_data"
    },
    {
     "data": {
      "application/vnd.jupyter.widget-view+json": {
       "model_id": "26ea347cba6d4b959109d4d8c6493001",
       "version_major": 2,
       "version_minor": 0
      },
      "text/plain": [
       "Downloading (…)of-00002.safetensors:   0%|          | 0.00/3.50G [00:00<?, ?B/s]"
      ]
     },
     "metadata": {},
     "output_type": "display_data"
    },
    {
     "data": {
      "application/vnd.jupyter.widget-view+json": {
       "model_id": "816bd04a15a64aa89a6f13c985d80208",
       "version_major": 2,
       "version_minor": 0
      },
      "text/plain": [
       "Loading checkpoint shards:   0%|          | 0/2 [00:00<?, ?it/s]"
      ]
     },
     "metadata": {},
     "output_type": "display_data"
    },
    {
     "data": {
      "application/vnd.jupyter.widget-view+json": {
       "model_id": "1c2457e4a6d74999a2d3087c7aefd067",
       "version_major": 2,
       "version_minor": 0
      },
      "text/plain": [
       "Downloading (…)neration_config.json:   0%|          | 0.00/167 [00:00<?, ?B/s]"
      ]
     },
     "metadata": {},
     "output_type": "display_data"
    },
    {
     "data": {
      "application/vnd.jupyter.widget-view+json": {
       "model_id": "ca096d2a6e7140fab4124a1defeb97c9",
       "version_major": 2,
       "version_minor": 0
      },
      "text/plain": [
       "Downloading (…)okenizer_config.json:   0%|          | 0.00/776 [00:00<?, ?B/s]"
      ]
     },
     "metadata": {},
     "output_type": "display_data"
    },
    {
     "name": "stderr",
     "output_type": "stream",
     "text": [
      "/home/tomdewildt/Projects/master-thesis/venv/lib/python3.8/site-packages/transformers/tokenization_utils_base.py:1714: FutureWarning: The `use_auth_token` argument is deprecated and will be removed in v5 of Transformers.\n",
      "  warnings.warn(\n"
     ]
    },
    {
     "data": {
      "application/vnd.jupyter.widget-view+json": {
       "model_id": "f8b1f5511cf743cdaa77dc98c79c899b",
       "version_major": 2,
       "version_minor": 0
      },
      "text/plain": [
       "Downloading tokenizer.model:   0%|          | 0.00/500k [00:00<?, ?B/s]"
      ]
     },
     "metadata": {},
     "output_type": "display_data"
    },
    {
     "data": {
      "application/vnd.jupyter.widget-view+json": {
       "model_id": "8d915f53fb9942c9aa9a629c50c0de16",
       "version_major": 2,
       "version_minor": 0
      },
      "text/plain": [
       "Downloading (…)/main/tokenizer.json:   0%|          | 0.00/1.84M [00:00<?, ?B/s]"
      ]
     },
     "metadata": {},
     "output_type": "display_data"
    },
    {
     "data": {
      "application/vnd.jupyter.widget-view+json": {
       "model_id": "49d2f78b0fa645589e11149ce3d6c41e",
       "version_major": 2,
       "version_minor": 0
      },
      "text/plain": [
       "Downloading (…)cial_tokens_map.json:   0%|          | 0.00/414 [00:00<?, ?B/s]"
      ]
     },
     "metadata": {},
     "output_type": "display_data"
    },
    {
     "data": {
      "text/plain": [
       "' The first letter of the alphabet is A.'"
      ]
     },
     "execution_count": 6,
     "metadata": {},
     "output_type": "execute_result"
    }
   ],
   "source": [
    "model = factory.get_model(\"meta-llama/Llama-2-7b-chat-hf\")\n",
    "model.generate(\"Question: What is the first letter of the alphabet?\\nAnswer: \")"
   ]
  },
  {
   "attachments": {},
   "cell_type": "markdown",
   "id": "a7c61b1e-5b3b-472b-a190-31b6f7a1317a",
   "metadata": {},
   "source": [
    "### 1.2.4 OpenAI Models"
   ]
  },
  {
   "cell_type": "code",
   "execution_count": 7,
   "id": "bb2dc137-acf7-4be8-9e80-9d424fa4bafc",
   "metadata": {},
   "outputs": [
    {
     "data": {
      "text/plain": [
       "' A'"
      ]
     },
     "execution_count": 7,
     "metadata": {},
     "output_type": "execute_result"
    }
   ],
   "source": [
    "model = factory.get_model(\"openai/text-davinci-003\")\n",
    "model.generate(\"Question: What is the first letter of the alphabet?\\nAnswer: \")"
   ]
  }
 ],
 "metadata": {
  "kernelspec": {
   "display_name": "Python 3 (ipykernel)",
   "language": "python",
   "name": "python3"
  },
  "language_info": {
   "codemirror_mode": {
    "name": "ipython",
    "version": 3
   },
   "file_extension": ".py",
   "mimetype": "text/x-python",
   "name": "python",
   "nbconvert_exporter": "python",
   "pygments_lexer": "ipython3",
   "version": "3.8.10"
  }
 },
 "nbformat": 4,
 "nbformat_minor": 5
}
