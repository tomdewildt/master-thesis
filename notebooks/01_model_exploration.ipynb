{
 "cells": [
  {
   "attachments": {},
   "cell_type": "markdown",
   "id": "e69bd2ff-ed57-4599-bedc-27e7345b58c8",
   "metadata": {},
   "source": [
    "# 1. Model Exploration"
   ]
  },
  {
   "cell_type": "code",
   "execution_count": 1,
   "id": "7ce9b939-32b1-4509-9d99-357e25e94b44",
   "metadata": {},
   "outputs": [
    {
     "name": "stdout",
     "output_type": "stream",
     "text": [
      "\n",
      "\u001b[1m[\u001b[0m\u001b[34;49mnotice\u001b[0m\u001b[1;39;49m]\u001b[0m\u001b[39;49m A new release of pip is available: \u001b[0m\u001b[31;49m23.1.2\u001b[0m\u001b[39;49m -> \u001b[0m\u001b[32;49m23.2.1\u001b[0m\n",
      "\u001b[1m[\u001b[0m\u001b[34;49mnotice\u001b[0m\u001b[1;39;49m]\u001b[0m\u001b[39;49m To update, run: \u001b[0m\u001b[32;49mpip install --upgrade pip\u001b[0m\n"
     ]
    }
   ],
   "source": [
    "!pip install -q accelerate anthropic google-cloud-aiplatform langchain openai protobuf sentencepiece torch transformers xformers"
   ]
  },
  {
   "cell_type": "code",
   "execution_count": 2,
   "id": "9f3ddfd9-1c58-438a-9200-4ed7b49874eb",
   "metadata": {},
   "outputs": [],
   "source": [
    "from master_thesis import ModelFactory"
   ]
  },
  {
   "attachments": {},
   "cell_type": "markdown",
   "id": "8d42af7b-eab0-46ca-bc8b-d9646ba45285",
   "metadata": {},
   "source": [
    "## 1.1 Models"
   ]
  },
  {
   "cell_type": "code",
   "execution_count": 3,
   "id": "9abc9642-102a-40b6-ad7a-7a5b2629ddd1",
   "metadata": {},
   "outputs": [],
   "source": [
    "factory = ModelFactory()"
   ]
  },
  {
   "cell_type": "code",
   "execution_count": 4,
   "id": "54436964-fab0-494e-a033-8c48926fb68a",
   "metadata": {},
   "outputs": [
    {
     "data": {
      "text/plain": [
       "['anthropic/claude-v1',\n",
       " 'anthropic/claude-v1-100k',\n",
       " 'anthropic/claude-instant-v1',\n",
       " 'anthropic/claude-instant-v1-100k',\n",
       " 'google/text-bison-001',\n",
       " 'google/chat-bison-001',\n",
       " 'openai/gpt2',\n",
       " 'bigscience/bloom-560m',\n",
       " 'bigscience/bloom-1b1',\n",
       " 'bigscience/bloom-1b7',\n",
       " 'bigscience/bloom-3b',\n",
       " 'bigscience/bloom-7b1',\n",
       " 'bigscience/bloom',\n",
       " 'bigscience/bloomz-560m',\n",
       " 'bigscience/bloomz-1b1',\n",
       " 'bigscience/bloomz-1b7',\n",
       " 'bigscience/bloomz-3b',\n",
       " 'bigscience/bloomz-7b1',\n",
       " 'bigscience/bloomz',\n",
       " 'facebook/xglm-564M',\n",
       " 'facebook/xglm-1.7B',\n",
       " 'facebook/xglm-2.9B',\n",
       " 'facebook/xglm-4.5B',\n",
       " 'facebook/xglm-7.5B',\n",
       " 'meta-llama/Llama-2-7b-hf',\n",
       " 'meta-llama/Llama-2-7b-chat-hf',\n",
       " 'meta-llama/Llama-2-13b-hf',\n",
       " 'meta-llama/Llama-2-13b-chat-hf',\n",
       " 'meta-llama/Llama-2-70b-hf',\n",
       " 'meta-llama/Llama-2-70b-chat-hf',\n",
       " 'google/t5-small',\n",
       " 'google/t5-base',\n",
       " 'google/t5-large',\n",
       " 'google/t5-3b',\n",
       " 'google/t5-11b',\n",
       " 'google/flan-t5-small',\n",
       " 'google/flan-t5-base',\n",
       " 'google/flan-t5-large',\n",
       " 'google/flan-t5-xl',\n",
       " 'google/flan-t5-xxl',\n",
       " 'openai/gpt-4',\n",
       " 'openai/gpt-3.5-turbo',\n",
       " 'openai/text-davinci-003',\n",
       " 'openai/text-curie-001',\n",
       " 'openai/text-babbage-001',\n",
       " 'openai/text-ada-001']"
      ]
     },
     "execution_count": 4,
     "metadata": {},
     "output_type": "execute_result"
    }
   ],
   "source": [
    "factory.list_models()"
   ]
  },
  {
   "attachments": {},
   "cell_type": "markdown",
   "id": "a353cda7-1a96-436b-841f-f469e18b79b7",
   "metadata": {},
   "source": [
    "## 1.2 Evaluate Models"
   ]
  },
  {
   "attachments": {},
   "cell_type": "markdown",
   "id": "6448ea5a-523e-4d50-a633-5f149ed26258",
   "metadata": {},
   "source": [
    "### 1.2.1 Anthropic Models"
   ]
  },
  {
   "cell_type": "code",
   "execution_count": 5,
   "id": "b1f2ef80-9b68-4b80-a30c-bab238520924",
   "metadata": {},
   "outputs": [
    {
     "data": {
      "text/plain": [
       "' The first letter of the alphabet is A.'"
      ]
     },
     "execution_count": 5,
     "metadata": {},
     "output_type": "execute_result"
    }
   ],
   "source": [
    "model = factory.get_model(\"anthropic/claude-instant-v1\")\n",
    "model.generate(\"Question: What is the first letter of the alphabet?\\nAnswer: \")"
   ]
  },
  {
   "attachments": {},
   "cell_type": "markdown",
   "id": "0214dd84-db70-48ed-96ea-ee1adf8fbc13",
   "metadata": {},
   "source": [
    "### 1.2.2 Google Models"
   ]
  },
  {
   "cell_type": "code",
   "execution_count": null,
   "id": "e92943c0-b6e4-4832-b77c-da30b19d04b1",
   "metadata": {},
   "outputs": [],
   "source": []
  },
  {
   "attachments": {},
   "cell_type": "markdown",
   "id": "8a95415f-5207-47db-8e2e-8524d2e78353",
   "metadata": {},
   "source": [
    "### 1.2.3 HuggingFace Models"
   ]
  },
  {
   "cell_type": "code",
   "execution_count": 6,
   "id": "c379bbd7-9854-45b7-82a3-fdedafab0bf0",
   "metadata": {},
   "outputs": [
    {
     "name": "stderr",
     "output_type": "stream",
     "text": [
      "WARNING:root:A matching Triton is not available, some optimizations will not be enabled.\n",
      "Error caught was: No module named 'triton'\n",
      "Setting `pad_token_id` to `eos_token_id`:50256 for open-end generation.\n"
     ]
    },
    {
     "data": {
      "text/plain": [
       "\"\\xa0This is a simple question. \\xa0The first letter of the alphabet is the letter 'A' followed by the letter 'D'.\\n\\xa0This is the first letter of the alphabet which is the same as the letter 'E'.\\n\\xa0This is the first letter of the alphabet which is the same as the letter 'F'.\\n\\xa0This is the first letter of the alphabet which is the same as the letter 'G'.\\n\\xa0This is the first letter of the alphabet which is the same as the letter 'H'.\\n\\xa0This is the first letter of the alphabet which is the same as the letter 'I'.\\n\\xa0This is the first letter of the alphabet which is the same as the letter 'J'.\\n\\xa0This is the first letter of the alphabet which is the same as the letter 'K'.\\n\\xa0This is the first letter of the alphabet which is the same as the letter 'L'.\\n\\xa0This is the first letter of the alphabet which is the same as the letter 'M'.\\n\\xa0This is the first letter of the alphabet which is the same as the letter 'N'.\\n\\xa0This is the first letter of the alphabet which is the same as the letter 'O'.\\n\\xa0This is the first letter of\""
      ]
     },
     "execution_count": 6,
     "metadata": {},
     "output_type": "execute_result"
    }
   ],
   "source": [
    "model = factory.get_model(\"openai/gpt2\")\n",
    "model.generate(\"Question: What is the first letter of the alphabet?\\nAnswer: \")"
   ]
  },
  {
   "attachments": {},
   "cell_type": "markdown",
   "id": "a7c61b1e-5b3b-472b-a190-31b6f7a1317a",
   "metadata": {},
   "source": [
    "### 1.2.4 OpenAI Models"
   ]
  },
  {
   "cell_type": "code",
   "execution_count": 7,
   "id": "bb2dc137-acf7-4be8-9e80-9d424fa4bafc",
   "metadata": {},
   "outputs": [
    {
     "data": {
      "text/plain": [
       "' A'"
      ]
     },
     "execution_count": 7,
     "metadata": {},
     "output_type": "execute_result"
    }
   ],
   "source": [
    "model = factory.get_model(\"openai/text-davinci-003\")\n",
    "model.generate(\"Question: What is the first letter of the alphabet?\\nAnswer: \")"
   ]
  }
 ],
 "metadata": {
  "kernelspec": {
   "display_name": "Python 3 (ipykernel)",
   "language": "python",
   "name": "python3"
  },
  "language_info": {
   "codemirror_mode": {
    "name": "ipython",
    "version": 3
   },
   "file_extension": ".py",
   "mimetype": "text/x-python",
   "name": "python",
   "nbconvert_exporter": "python",
   "pygments_lexer": "ipython3",
   "version": "3.8.10"
  }
 },
 "nbformat": 4,
 "nbformat_minor": 5
}
