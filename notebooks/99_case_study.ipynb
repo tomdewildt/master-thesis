{
 "cells": [
  {
   "cell_type": "markdown",
   "id": "9f755b03-8a54-497a-be23-1bb1601031fb",
   "metadata": {},
   "source": [
    "# 99. Case Study"
   ]
  },
  {
   "cell_type": "code",
   "execution_count": null,
   "id": "20843064-857c-4f0b-b7f4-046c5679b8eb",
   "metadata": {},
   "outputs": [],
   "source": []
  },
  {
   "cell_type": "code",
   "execution_count": null,
   "id": "6f3848b9-1a22-4eca-a369-2ca95cf293e9",
   "metadata": {},
   "outputs": [],
   "source": []
  }
 ],
 "metadata": {
  "kernelspec": {
   "display_name": "Python 3 (ipykernel)",
   "language": "python",
   "name": "python3"
  },
  "language_info": {
   "codemirror_mode": {
    "name": "ipython",
    "version": 3
   },
   "file_extension": ".py",
   "mimetype": "text/x-python",
   "name": "python",
   "nbconvert_exporter": "python",
   "pygments_lexer": "ipython3",
   "version": "3.11.5"
  }
 },
 "nbformat": 4,
 "nbformat_minor": 5
}
