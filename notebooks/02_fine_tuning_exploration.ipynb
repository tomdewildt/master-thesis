{
 "cells": [
  {
   "cell_type": "markdown",
   "id": "6e0cdcf8-450a-43dc-9899-7510d2ccd9a5",
   "metadata": {},
   "source": [
    "# 1. Fine Tuning Exploration"
   ]
  },
  {
   "cell_type": "code",
   "execution_count": 1,
   "id": "85d936f2-988f-4d28-bcde-d1f9c5bd46d1",
   "metadata": {},
   "outputs": [
    {
     "name": "stdout",
     "output_type": "stream",
     "text": [
      "\n",
      "\u001b[1m[\u001b[0m\u001b[34;49mnotice\u001b[0m\u001b[1;39;49m]\u001b[0m\u001b[39;49m A new release of pip is available: \u001b[0m\u001b[31;49m23.1.2\u001b[0m\u001b[39;49m -> \u001b[0m\u001b[32;49m23.2.1\u001b[0m\n",
      "\u001b[1m[\u001b[0m\u001b[34;49mnotice\u001b[0m\u001b[1;39;49m]\u001b[0m\u001b[39;49m To update, run: \u001b[0m\u001b[32;49mpip install --upgrade pip\u001b[0m\n"
     ]
    }
   ],
   "source": [
    "!pip install -q accelerate anthropic bitsandbytes datasets google-cloud-aiplatform langchain openai protobuf rapidfuzz scipy sentencepiece tiktoken torch transformers xformers"
   ]
  },
  {
   "cell_type": "code",
   "execution_count": 2,
   "id": "002394d5-038d-4062-8434-2a9b636ad0ce",
   "metadata": {},
   "outputs": [],
   "source": [
    "from master_thesis import ModelFactory"
   ]
  },
  {
   "cell_type": "markdown",
   "id": "d2ead193-7220-4f2a-b6e5-1d83d7f8eabe",
   "metadata": {},
   "source": [
    "# 99. Scratch"
   ]
  },
  {
   "cell_type": "code",
   "execution_count": 3,
   "id": "89fbe229-caca-4878-b8cc-6bc94c98f210",
   "metadata": {},
   "outputs": [],
   "source": [
    "factory = ModelFactory()"
   ]
  },
  {
   "cell_type": "code",
   "execution_count": 4,
   "id": "2f596567-db2f-43d5-9f1c-d5a7c6346950",
   "metadata": {},
   "outputs": [
    {
     "data": {
      "text/plain": [
       "['anthropic/claude-v1',\n",
       " 'anthropic/claude-v1-100k',\n",
       " 'anthropic/claude-instant-v1',\n",
       " 'anthropic/claude-instant-v1-100k',\n",
       " 'google/text-bison-001',\n",
       " 'google/chat-bison-001',\n",
       " 'openai/gpt2',\n",
       " 'bigscience/bloom-560m',\n",
       " 'bigscience/bloom-1b1',\n",
       " 'bigscience/bloom-1b7',\n",
       " 'bigscience/bloom-3b',\n",
       " 'bigscience/bloom-7b1',\n",
       " 'bigscience/bloom',\n",
       " 'bigscience/bloomz-560m',\n",
       " 'bigscience/bloomz-1b1',\n",
       " 'bigscience/bloomz-1b7',\n",
       " 'bigscience/bloomz-3b',\n",
       " 'bigscience/bloomz-7b1',\n",
       " 'bigscience/bloomz',\n",
       " 'facebook/xglm-564M',\n",
       " 'facebook/xglm-1.7B',\n",
       " 'facebook/xglm-2.9B',\n",
       " 'facebook/xglm-4.5B',\n",
       " 'facebook/xglm-7.5B',\n",
       " 'meta-llama/Llama-2-7b-hf',\n",
       " 'meta-llama/Llama-2-7b-chat-hf',\n",
       " 'meta-llama/Llama-2-13b-hf',\n",
       " 'meta-llama/Llama-2-13b-chat-hf',\n",
       " 'meta-llama/Llama-2-70b-hf',\n",
       " 'meta-llama/Llama-2-70b-chat-hf',\n",
       " 'google/t5-small',\n",
       " 'google/t5-base',\n",
       " 'google/t5-large',\n",
       " 'google/t5-3b',\n",
       " 'google/t5-11b',\n",
       " 'google/flan-t5-small',\n",
       " 'google/flan-t5-base',\n",
       " 'google/flan-t5-large',\n",
       " 'google/flan-t5-xl',\n",
       " 'google/flan-t5-xxl',\n",
       " 'openai/gpt-4',\n",
       " 'openai/gpt-3.5-turbo',\n",
       " 'openai/text-davinci-003',\n",
       " 'openai/text-curie-001',\n",
       " 'openai/text-babbage-001',\n",
       " 'openai/text-ada-001']"
      ]
     },
     "execution_count": 4,
     "metadata": {},
     "output_type": "execute_result"
    }
   ],
   "source": [
    "factory.list_models()"
   ]
  },
  {
   "cell_type": "code",
   "execution_count": 5,
   "id": "961d07d8-bf94-4c1b-9b46-775d47872128",
   "metadata": {},
   "outputs": [
    {
     "name": "stderr",
     "output_type": "stream",
     "text": [
      "/home/tomdewildt/Projects/master-thesis/venv/lib/python3.8/site-packages/transformers/modeling_utils.py:2193: FutureWarning: The `use_auth_token` argument is deprecated and will be removed in v5 of Transformers.\n",
      "  warnings.warn(\n",
      "Some weights of GPT2LMHeadModel were not initialized from the model checkpoint at gpt2 and are newly initialized: ['lm_head.weight']\n",
      "You should probably TRAIN this model on a down-stream task to be able to use it for predictions and inference.\n",
      "/home/tomdewildt/Projects/master-thesis/venv/lib/python3.8/site-packages/transformers/tokenization_utils_base.py:1714: FutureWarning: The `use_auth_token` argument is deprecated and will be removed in v5 of Transformers.\n",
      "  warnings.warn(\n"
     ]
    }
   ],
   "source": [
    "model = factory.get_model(\"openai/gpt2\")"
   ]
  },
  {
   "cell_type": "code",
   "execution_count": 6,
   "id": "161ee43b-d2e5-481e-803e-453a80b6eaa2",
   "metadata": {},
   "outputs": [
    {
     "name": "stderr",
     "output_type": "stream",
     "text": [
      "The attention mask and the pad token id were not set. As a consequence, you may observe unexpected behavior. Please pass your input's `attention_mask` to obtain reliable results.\n",
      "Setting `pad_token_id` to `eos_token_id`:50256 for open-end generation.\n",
      "A decoder-only architecture is being used, but right-padding was detected! For correct generation results, please set `padding_side='left'` when initializing the tokenizer.\n"
     ]
    },
    {
     "name": "stdout",
     "output_type": "stream",
     "text": [
      "A federal judge has temporarily halted the federal government's ability to pursue a lawsuit over the detention of an American citizen, who was being held for more than seven days without a trial.\n",
      "\n",
      "The case, filed by the American Civil Liberties Union and New York's Human Rights Campaign, is challenging the federal government's claim that the government has a constitutional right to detain American citizens without trial, which is a legal requirement of the Fourth Amendment.\n",
      "\n",
      "The U.S. Department of Justice (DOJ) said on Friday that it would be filing an appeal. It said \"no specific decision\" had been made about whether the government has a \"reasonable expectation of privacy,\" and that the \"cases involved are not in accord with a court's decision to hold the individual responsible for their detention.\"\n",
      "\n",
      "The government claims that the detainee, identified as Jonathan Haines, is a U.S. citizen who is currently being held in the US \"for indefinite detention.\"\n",
      "\n",
      "The Justice Department says that it has received a \"record number of complaints from detainees\" about the government's treatment and detention of Haines, and that it has received \"a record number of adverse findings with respect to the detention of individual detainees.\"\n",
      "\n",
      "The government says the detainees are being treated\n"
     ]
    }
   ],
   "source": [
    "print(model.generate(\"\"))"
   ]
  }
 ],
 "metadata": {
  "kernelspec": {
   "display_name": "Python 3 (ipykernel)",
   "language": "python",
   "name": "python3"
  },
  "language_info": {
   "codemirror_mode": {
    "name": "ipython",
    "version": 3
   },
   "file_extension": ".py",
   "mimetype": "text/x-python",
   "name": "python",
   "nbconvert_exporter": "python",
   "pygments_lexer": "ipython3",
   "version": "3.8.10"
  }
 },
 "nbformat": 4,
 "nbformat_minor": 5
}
